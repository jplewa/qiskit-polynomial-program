{
 "cells": [
  {
   "cell_type": "code",
   "execution_count": 1,
   "metadata": {
    "collapsed": true
   },
   "outputs": [],
   "source": [
    "from docplex.mp.model import Model\n",
    "from docplex.mp.utils import DOcplexException\n",
    "from qiskit import Aer\n",
    "from qiskit.algorithms import NumPyEigensolver, VQE\n",
    "from qiskit.algorithms.optimizers import COBYLA\n",
    "from qiskit.circuit.library import RealAmplitudes\n",
    "from qiskit.utils import QuantumInstance, algorithm_globals\n",
    "from qiskit_optimization import translators\n",
    "\n",
    "from qiskit_polynomial_program.polynomial_program import PolynomialProgram"
   ]
  },
  {
   "cell_type": "code",
   "execution_count": 2,
   "outputs": [],
   "source": [
    "def compute_eigenvalues(qubit_op):\n",
    "    count = 2 ** qubit_op.num_qubits\n",
    "    eigensolver = NumPyEigensolver(count)\n",
    "    eigensolver_result = eigensolver.compute_eigenvalues(qubit_op)\n",
    "    print('state\\teigenvalue')\n",
    "    for eigenstate, eigenvalue in zip(eigensolver_result.eigenstates, eigensolver_result.eigenvalues):\n",
    "        eigenstate, = eigenstate.sample().keys()\n",
    "        eigenvalue = eigenvalue\n",
    "        print(f'{eigenstate}\\t{eigenvalue}')"
   ],
   "metadata": {
    "collapsed": false,
    "pycharm": {
     "name": "#%%\n"
    }
   }
  },
  {
   "cell_type": "markdown",
   "source": [
    "# Quadratic functions"
   ],
   "metadata": {
    "collapsed": false,
    "pycharm": {
     "name": "#%% md\n"
    }
   }
  },
  {
   "cell_type": "markdown",
   "source": [
    "## `QuadraticProgram`"
   ],
   "metadata": {
    "collapsed": false
   }
  },
  {
   "cell_type": "code",
   "execution_count": 3,
   "outputs": [
    {
     "name": "stdout",
     "output_type": "stream",
     "text": [
      "state\teigenvalue\n",
      "100\t(-1.5+0j)\n",
      "000\t(-0.5+0j)\n",
      "101\t(-0.5+0j)\n",
      "110\t(-0.5+0j)\n",
      "001\t(0.5+0j)\n",
      "010\t(0.5+0j)\n",
      "111\t(0.5+0j)\n",
      "011\t(1.5+0j)\n",
      "offset: 0.5\n"
     ]
    }
   ],
   "source": [
    "algorithm_globals.random_seed = 12345678\n",
    "\n",
    "model = Model(name='sample')\n",
    "x = {i: model.binary_var(name=f'x_{i}') for i in range(3)}\n",
    "objective = x[0] + x[1] ** 2 - x[2]\n",
    "model.minimize(objective)\n",
    "\n",
    "quadratic_program = translators.from_docplex_mp(model)\n",
    "hamiltonian_quadratic, offset = quadratic_program.to_ising()\n",
    "\n",
    "compute_eigenvalues(hamiltonian_quadratic)\n",
    "print('offset:', offset)"
   ],
   "metadata": {
    "collapsed": false,
    "pycharm": {
     "name": "#%%\n"
    }
   }
  },
  {
   "cell_type": "markdown",
   "source": [
    "### VQE"
   ],
   "metadata": {
    "collapsed": false,
    "pycharm": {
     "name": "#%% md\n"
    }
   }
  },
  {
   "cell_type": "code",
   "execution_count": 4,
   "outputs": [
    {
     "name": "stdout",
     "output_type": "stream",
     "text": [
      "000 0.004882812500000001\n",
      "010 0.0019531250000000004\n",
      "001 0.9931640625000001\n"
     ]
    }
   ],
   "source": [
    "optimizer = COBYLA()\n",
    "ry = RealAmplitudes(hamiltonian_quadratic.num_qubits, reps=1, entanglement='full')\n",
    "backend = Aer.get_backend('qasm_simulator')\n",
    "quantum_instance = QuantumInstance(backend, seed_simulator=algorithm_globals.random_seed,\n",
    "                                   seed_transpiler=algorithm_globals.random_seed)\n",
    "vqe = VQE(ry, optimizer=optimizer, quantum_instance=quantum_instance)\n",
    "result = vqe.compute_minimum_eigenvalue(hamiltonian_quadratic)\n",
    "\n",
    "for state, amplitude in result.eigenstate.items():\n",
    "    state = state[::-1]\n",
    "    print(state, amplitude ** 2)"
   ],
   "metadata": {
    "collapsed": false,
    "pycharm": {
     "name": "#%%\n"
    }
   }
  },
  {
   "cell_type": "markdown",
   "source": [
    "### QAOA"
   ],
   "metadata": {
    "collapsed": false,
    "pycharm": {
     "name": "#%% md\n"
    }
   }
  },
  {
   "cell_type": "code",
   "execution_count": 5,
   "outputs": [],
   "source": [
    "# TODO"
   ],
   "metadata": {
    "collapsed": false,
    "pycharm": {
     "name": "#%%\n"
    }
   }
  },
  {
   "cell_type": "markdown",
   "source": [
    "## `PolynomialProgram`"
   ],
   "metadata": {
    "collapsed": false
   }
  },
  {
   "cell_type": "code",
   "execution_count": 6,
   "outputs": [
    {
     "name": "stdout",
     "output_type": "stream",
     "text": [
      "state\teigenvalue\n",
      "100\t(-1.5+0j)\n",
      "000\t(-0.5+0j)\n",
      "101\t(-0.5+0j)\n",
      "110\t(-0.5+0j)\n",
      "001\t(0.5+0j)\n",
      "010\t(0.5+0j)\n",
      "111\t(0.5+0j)\n",
      "011\t(1.5+0j)\n",
      "offset: 0.5\n"
     ]
    }
   ],
   "source": [
    "algorithm_globals.random_seed = 12345678\n",
    "\n",
    "polynomial_program = PolynomialProgram(3)\n",
    "x = polynomial_program.x\n",
    "polynomial_program.add_objective(x[0] + x[1] ** 2 - x[2])\n",
    "hamiltonian_polynomial, offset = polynomial_program.to_ising()\n",
    "compute_eigenvalues(hamiltonian_polynomial)\n",
    "print('offset:', offset)"
   ],
   "metadata": {
    "collapsed": false,
    "pycharm": {
     "name": "#%%\n"
    }
   }
  },
  {
   "cell_type": "markdown",
   "source": [
    "### VQE"
   ],
   "metadata": {
    "collapsed": false
   }
  },
  {
   "cell_type": "code",
   "execution_count": 7,
   "outputs": [
    {
     "name": "stdout",
     "output_type": "stream",
     "text": [
      "000 0.004882812500000001\n",
      "010 0.0019531250000000004\n",
      "001 0.9931640625000001\n"
     ]
    }
   ],
   "source": [
    "optimizer = COBYLA()\n",
    "ry = RealAmplitudes(hamiltonian_polynomial.num_qubits, reps=1, entanglement='full')\n",
    "backend = Aer.get_backend('qasm_simulator')\n",
    "quantum_instance = QuantumInstance(backend, seed_simulator=algorithm_globals.random_seed,\n",
    "                                   seed_transpiler=algorithm_globals.random_seed)\n",
    "vqe = VQE(ry, optimizer=optimizer, quantum_instance=quantum_instance)\n",
    "result = vqe.compute_minimum_eigenvalue(hamiltonian_polynomial)\n",
    "\n",
    "for state, amplitude in result.eigenstate.items():\n",
    "    state = state[::-1]\n",
    "    print(state, amplitude ** 2)"
   ],
   "metadata": {
    "collapsed": false,
    "pycharm": {
     "name": "#%%\n"
    }
   }
  },
  {
   "cell_type": "markdown",
   "source": [
    "### QAOA"
   ],
   "metadata": {
    "collapsed": false
   }
  },
  {
   "cell_type": "code",
   "execution_count": 8,
   "outputs": [],
   "source": [
    "#TODO"
   ],
   "metadata": {
    "collapsed": false,
    "pycharm": {
     "name": "#%%\n"
    }
   }
  },
  {
   "cell_type": "markdown",
   "source": [
    "# Higher order functions\n"
   ],
   "metadata": {
    "collapsed": false,
    "pycharm": {
     "name": "#%% md\n"
    }
   }
  },
  {
   "cell_type": "markdown",
   "source": [
    "## `QuadraticProgram`"
   ],
   "metadata": {
    "collapsed": false
   }
  },
  {
   "cell_type": "code",
   "execution_count": 9,
   "outputs": [
    {
     "name": "stdout",
     "output_type": "stream",
     "text": [
      "Failed to create Hamiltonian\n",
      "Cannot multiply x_0*x_1 by x_2, some terms would have degree >= 3. Maximum polynomial degree is 2.\n"
     ]
    }
   ],
   "source": [
    "algorithm_globals.random_seed = 1234567\n",
    "\n",
    "model = Model(name='sample')\n",
    "x = {i: model.binary_var(name=f'x_{i}') for i in range(3)}\n",
    "try:\n",
    "    objective = x[0] * x[1] * x[2]\n",
    "    model.minimize(objective)\n",
    "\n",
    "    quadratic_program = translators.from_docplex_mp(model)\n",
    "    hamiltonian_quadratic, offset = quadratic_program.to_ising()\n",
    "\n",
    "    compute_eigenvalues(hamiltonian_quadratic)\n",
    "    print('offset:', offset)\n",
    "except DOcplexException as e:\n",
    "    print('Failed to create Hamiltonian')\n",
    "    print(e)"
   ],
   "metadata": {
    "collapsed": false,
    "pycharm": {
     "name": "#%%\n"
    }
   }
  },
  {
   "cell_type": "markdown",
   "source": [
    "# `PolynomialProgram`"
   ],
   "metadata": {
    "collapsed": false,
    "pycharm": {
     "name": "#%% md\n"
    }
   }
  },
  {
   "cell_type": "code",
   "execution_count": 10,
   "outputs": [
    {
     "name": "stdout",
     "output_type": "stream",
     "text": [
      "state\teigenvalue\n",
      "000\t(-0.125+0j)\n",
      "001\t(-0.125+0j)\n",
      "010\t(-0.125+0j)\n",
      "011\t(-0.125+0j)\n",
      "100\t(-0.125+0j)\n",
      "101\t(-0.125+0j)\n",
      "110\t(-0.125+0j)\n",
      "111\t(0.875+0j)\n",
      "offset: 0.125\n"
     ]
    }
   ],
   "source": [
    "algorithm_globals.random_seed = 12345678\n",
    "\n",
    "polynomial_program = PolynomialProgram(3)\n",
    "x = polynomial_program.x\n",
    "polynomial_program.add_objective(x[0] * x[1] * x[2])\n",
    "hamiltonian_polynomial, offset = polynomial_program.to_ising()\n",
    "compute_eigenvalues(hamiltonian_polynomial)\n",
    "print('offset:', offset)"
   ],
   "metadata": {
    "collapsed": false,
    "pycharm": {
     "name": "#%%\n"
    }
   }
  },
  {
   "cell_type": "markdown",
   "source": [
    "### VQE"
   ],
   "metadata": {
    "collapsed": false,
    "pycharm": {
     "name": "#%% md\n"
    }
   }
  },
  {
   "cell_type": "code",
   "execution_count": 11,
   "outputs": [
    {
     "name": "stdout",
     "output_type": "stream",
     "text": [
      "000 0.5498046875000001\n",
      "100 0.19921875000000003\n",
      "010 0.1435546875\n",
      "110 0.012695312499999998\n",
      "001 0.0537109375\n",
      "101 0.0166015625\n",
      "011 0.0244140625\n"
     ]
    }
   ],
   "source": [
    "optimizer = COBYLA()\n",
    "ry = RealAmplitudes(hamiltonian_polynomial.num_qubits, reps=1, entanglement='full')\n",
    "backend = Aer.get_backend('qasm_simulator')\n",
    "quantum_instance = QuantumInstance(backend, seed_simulator=algorithm_globals.random_seed,\n",
    "                                   seed_transpiler=algorithm_globals.random_seed)\n",
    "vqe = VQE(ry, optimizer=optimizer, quantum_instance=quantum_instance)\n",
    "result = vqe.compute_minimum_eigenvalue(hamiltonian_polynomial)\n",
    "\n",
    "for state, amplitude in result.eigenstate.items():\n",
    "    state = state[::-1]\n",
    "    print(state, amplitude ** 2)"
   ],
   "metadata": {
    "collapsed": false,
    "pycharm": {
     "name": "#%%\n"
    }
   }
  },
  {
   "cell_type": "markdown",
   "source": [
    "### QAOA"
   ],
   "metadata": {
    "collapsed": false,
    "pycharm": {
     "name": "#%% md\n"
    }
   }
  },
  {
   "cell_type": "code",
   "execution_count": 12,
   "outputs": [],
   "source": [
    "#TODO"
   ],
   "metadata": {
    "collapsed": false,
    "pycharm": {
     "name": "#%%\n"
    }
   }
  }
 ],
 "metadata": {
  "kernelspec": {
   "display_name": "Python 3",
   "language": "python",
   "name": "python3"
  },
  "language_info": {
   "codemirror_mode": {
    "name": "ipython",
    "version": 2
   },
   "file_extension": ".py",
   "mimetype": "text/x-python",
   "name": "python",
   "nbconvert_exporter": "python",
   "pygments_lexer": "ipython2",
   "version": "2.7.6"
  }
 },
 "nbformat": 4,
 "nbformat_minor": 0
}